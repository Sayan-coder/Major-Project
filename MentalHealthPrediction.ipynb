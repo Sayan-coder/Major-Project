{
  "nbformat": 4,
  "nbformat_minor": 0,
  "metadata": {
    "colab": {
      "name": "MentalHealthPrediction.ipynb",
      "provenance": [],
      "collapsed_sections": [],
      "authorship_tag": "ABX9TyNgJek18AX694KADp1CF7uL",
      "include_colab_link": true
    },
    "kernelspec": {
      "name": "python3",
      "display_name": "Python 3"
    }
  },
  "cells": [
    {
      "cell_type": "markdown",
      "metadata": {
        "id": "view-in-github",
        "colab_type": "text"
      },
      "source": [
        "<a href=\"https://colab.research.google.com/github/Sayan-coder/Major-Project/blob/main/MentalHealthPrediction.ipynb\" target=\"_parent\"><img src=\"https://colab.research.google.com/assets/colab-badge.svg\" alt=\"Open In Colab\"/></a>"
      ]
    },
    {
      "cell_type": "code",
      "metadata": {
        "id": "DWYpz1ddponI"
      },
      "source": [
        "#Importing the libraries\r\n",
        "import pandas as pd\r\n",
        "import numpy as np\r\n",
        "from IPython.display import display\r\n",
        "from sklearn.ensemble import ExtraTreesClassifier\r\n",
        "import matplotlib.pyplot as plt\r\n",
        "import seaborn as sns\r\n",
        "from sklearn.model_selection import train_test_split\r\n",
        "from sklearn.linear_model import LogisticRegression \r\n",
        "from sklearn.feature_selection import SelectKBest, chi2\r\n",
        "from sklearn.metrics import accuracy_score\r\n",
        "from sklearn.neighbors import KNeighborsClassifier\r\n",
        "from sklearn.svm import SVC \r\n",
        "from sklearn.naive_bayes import GaussianNB\r\n",
        "from sklearn.metrics import confusion_matrix"
      ],
      "execution_count": 32,
      "outputs": []
    },
    {
      "cell_type": "code",
      "metadata": {
        "colab": {
          "resources": {
            "http://localhost:8080/nbextensions/google.colab/files.js": {
              "data": "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",
              "ok": true,
              "headers": [
                [
                  "content-type",
                  "application/javascript"
                ]
              ],
              "status": 200,
              "status_text": ""
            }
          },
          "base_uri": "https://localhost:8080/",
          "height": 73
        },
        "id": "cVF1o2YXp7A-",
        "outputId": "a2330816-f1ed-4605-8f6f-94ac2667a268"
      },
      "source": [
        "#Importing the dataset\r\n",
        "from google.colab import files\r\n",
        "uploaded=files.upload()"
      ],
      "execution_count": 33,
      "outputs": [
        {
          "output_type": "display_data",
          "data": {
            "text/html": [
              "\n",
              "     <input type=\"file\" id=\"files-a723f50e-eff4-43dc-b47d-e42a1a05aca1\" name=\"files[]\" multiple disabled\n",
              "        style=\"border:none\" />\n",
              "     <output id=\"result-a723f50e-eff4-43dc-b47d-e42a1a05aca1\">\n",
              "      Upload widget is only available when the cell has been executed in the\n",
              "      current browser session. Please rerun this cell to enable.\n",
              "      </output>\n",
              "      <script src=\"/nbextensions/google.colab/files.js\"></script> "
            ],
            "text/plain": [
              "<IPython.core.display.HTML object>"
            ]
          },
          "metadata": {
            "tags": []
          }
        },
        {
          "output_type": "stream",
          "text": [
            "Saving data.csv to data (3).csv\n"
          ],
          "name": "stdout"
        }
      ]
    },
    {
      "cell_type": "code",
      "metadata": {
        "colab": {
          "base_uri": "https://localhost:8080/"
        },
        "id": "5S6fWaF2qtfm",
        "outputId": "d678507c-658d-40fb-ddae-ea2c9a1c921e"
      },
      "source": [
        "#Loading the dataset\r\n",
        "df=pd.read_csv('data.csv')\r\n",
        "\r\n",
        "#Printing 10 instances of the data\r\n",
        "df.tail"
      ],
      "execution_count": 34,
      "outputs": [
        {
          "output_type": "execute_result",
          "data": {
            "text/plain": [
              "<bound method NDFrame.tail of     inter_dom Region  Gender  ... Alone_bi  Others_bi  Internet_bi\n",
              "0       Inter    SEA    Male  ...       No         No           No\n",
              "1       Inter    SEA    Male  ...       No         No           No\n",
              "2       Inter    SEA    Male  ...       No         No           No\n",
              "3       Inter     EA  Female  ...       No         No           No\n",
              "4       Inter     EA  Female  ...       No         No           No\n",
              "..        ...    ...     ...  ...      ...        ...          ...\n",
              "281       NaN    NaN     NaN  ...      NaN        NaN          NaN\n",
              "282       NaN    NaN     NaN  ...      NaN        NaN          NaN\n",
              "283       NaN    NaN     NaN  ...      NaN        NaN          NaN\n",
              "284       NaN    NaN     NaN  ...      NaN        NaN          NaN\n",
              "285       NaN    NaN     NaN  ...      NaN        NaN          NaN\n",
              "\n",
              "[286 rows x 50 columns]>"
            ]
          },
          "metadata": {
            "tags": []
          },
          "execution_count": 34
        }
      ]
    },
    {
      "cell_type": "code",
      "metadata": {
        "colab": {
          "base_uri": "https://localhost:8080/"
        },
        "id": "j0R8uuNCq1B9",
        "outputId": "81531c41-0f05-4d3c-ff1f-8a1d0bb53a84"
      },
      "source": [
        "#Getting the shape of the data\r\n",
        "df.shape"
      ],
      "execution_count": 35,
      "outputs": [
        {
          "output_type": "execute_result",
          "data": {
            "text/plain": [
              "(286, 50)"
            ]
          },
          "metadata": {
            "tags": []
          },
          "execution_count": 35
        }
      ]
    },
    {
      "cell_type": "code",
      "metadata": {
        "colab": {
          "base_uri": "https://localhost:8080/",
          "height": 314
        },
        "id": "j7GVF4C2t8S9",
        "outputId": "10dc8a3b-953f-49f9-d792-496467f5c37e"
      },
      "source": [
        "#Exploring the data\r\n",
        "df.describe()"
      ],
      "execution_count": 36,
      "outputs": [
        {
          "output_type": "execute_result",
          "data": {
            "text/html": [
              "<div>\n",
              "<style scoped>\n",
              "    .dataframe tbody tr th:only-of-type {\n",
              "        vertical-align: middle;\n",
              "    }\n",
              "\n",
              "    .dataframe tbody tr th {\n",
              "        vertical-align: top;\n",
              "    }\n",
              "\n",
              "    .dataframe thead th {\n",
              "        text-align: right;\n",
              "    }\n",
              "</style>\n",
              "<table border=\"1\" class=\"dataframe\">\n",
              "  <thead>\n",
              "    <tr style=\"text-align: right;\">\n",
              "      <th></th>\n",
              "      <th>Age</th>\n",
              "      <th>Age_cate</th>\n",
              "      <th>Stay</th>\n",
              "      <th>Japanese</th>\n",
              "      <th>English</th>\n",
              "      <th>ToDep</th>\n",
              "      <th>ToSC</th>\n",
              "      <th>APD</th>\n",
              "      <th>AHome</th>\n",
              "      <th>APH</th>\n",
              "      <th>Afear</th>\n",
              "      <th>ACS</th>\n",
              "      <th>AGuilt</th>\n",
              "      <th>AMiscell</th>\n",
              "      <th>ToAS</th>\n",
              "      <th>Partner</th>\n",
              "      <th>Friends</th>\n",
              "      <th>Parents</th>\n",
              "      <th>Relative</th>\n",
              "      <th>Profess</th>\n",
              "      <th>Phone</th>\n",
              "      <th>Doctor</th>\n",
              "      <th>Reli</th>\n",
              "      <th>Alone</th>\n",
              "      <th>Others</th>\n",
              "      <th>Internet</th>\n",
              "    </tr>\n",
              "  </thead>\n",
              "  <tbody>\n",
              "    <tr>\n",
              "      <th>count</th>\n",
              "      <td>268.000000</td>\n",
              "      <td>268.000000</td>\n",
              "      <td>268.000000</td>\n",
              "      <td>268.000000</td>\n",
              "      <td>268.000000</td>\n",
              "      <td>268.000000</td>\n",
              "      <td>268.000000</td>\n",
              "      <td>268.000000</td>\n",
              "      <td>268.000000</td>\n",
              "      <td>268.000000</td>\n",
              "      <td>268.000000</td>\n",
              "      <td>268.000000</td>\n",
              "      <td>268.000000</td>\n",
              "      <td>268.000000</td>\n",
              "      <td>268.000000</td>\n",
              "      <td>268.000000</td>\n",
              "      <td>268.000000</td>\n",
              "      <td>268.000000</td>\n",
              "      <td>268.000000</td>\n",
              "      <td>268.000000</td>\n",
              "      <td>268.000000</td>\n",
              "      <td>268.000000</td>\n",
              "      <td>268.000000</td>\n",
              "      <td>268.000000</td>\n",
              "      <td>268.000000</td>\n",
              "      <td>242.000000</td>\n",
              "    </tr>\n",
              "    <tr>\n",
              "      <th>mean</th>\n",
              "      <td>20.873134</td>\n",
              "      <td>2.559701</td>\n",
              "      <td>2.149254</td>\n",
              "      <td>3.097015</td>\n",
              "      <td>3.649254</td>\n",
              "      <td>8.186567</td>\n",
              "      <td>37.473881</td>\n",
              "      <td>15.414179</td>\n",
              "      <td>9.608209</td>\n",
              "      <td>9.138060</td>\n",
              "      <td>7.257463</td>\n",
              "      <td>6.063433</td>\n",
              "      <td>3.783582</td>\n",
              "      <td>21.115672</td>\n",
              "      <td>72.380597</td>\n",
              "      <td>4.320896</td>\n",
              "      <td>4.063433</td>\n",
              "      <td>4.373134</td>\n",
              "      <td>3.070896</td>\n",
              "      <td>2.947761</td>\n",
              "      <td>2.287313</td>\n",
              "      <td>2.671642</td>\n",
              "      <td>1.917910</td>\n",
              "      <td>2.940299</td>\n",
              "      <td>2.141791</td>\n",
              "      <td>3.020661</td>\n",
              "    </tr>\n",
              "    <tr>\n",
              "      <th>std</th>\n",
              "      <td>2.765279</td>\n",
              "      <td>1.070624</td>\n",
              "      <td>1.326805</td>\n",
              "      <td>1.306104</td>\n",
              "      <td>0.880564</td>\n",
              "      <td>4.954728</td>\n",
              "      <td>9.234120</td>\n",
              "      <td>6.174439</td>\n",
              "      <td>4.011156</td>\n",
              "      <td>4.194651</td>\n",
              "      <td>3.111676</td>\n",
              "      <td>2.600721</td>\n",
              "      <td>1.909417</td>\n",
              "      <td>7.402149</td>\n",
              "      <td>22.644888</td>\n",
              "      <td>2.233892</td>\n",
              "      <td>1.935207</td>\n",
              "      <td>2.072367</td>\n",
              "      <td>1.853888</td>\n",
              "      <td>1.829091</td>\n",
              "      <td>1.529824</td>\n",
              "      <td>1.714779</td>\n",
              "      <td>1.406504</td>\n",
              "      <td>2.030705</td>\n",
              "      <td>1.504814</td>\n",
              "      <td>1.719906</td>\n",
              "    </tr>\n",
              "    <tr>\n",
              "      <th>min</th>\n",
              "      <td>17.000000</td>\n",
              "      <td>1.000000</td>\n",
              "      <td>1.000000</td>\n",
              "      <td>1.000000</td>\n",
              "      <td>1.000000</td>\n",
              "      <td>0.000000</td>\n",
              "      <td>8.000000</td>\n",
              "      <td>8.000000</td>\n",
              "      <td>4.000000</td>\n",
              "      <td>5.000000</td>\n",
              "      <td>4.000000</td>\n",
              "      <td>3.000000</td>\n",
              "      <td>2.000000</td>\n",
              "      <td>10.000000</td>\n",
              "      <td>36.000000</td>\n",
              "      <td>1.000000</td>\n",
              "      <td>1.000000</td>\n",
              "      <td>1.000000</td>\n",
              "      <td>1.000000</td>\n",
              "      <td>1.000000</td>\n",
              "      <td>1.000000</td>\n",
              "      <td>1.000000</td>\n",
              "      <td>1.000000</td>\n",
              "      <td>1.000000</td>\n",
              "      <td>1.000000</td>\n",
              "      <td>1.000000</td>\n",
              "    </tr>\n",
              "    <tr>\n",
              "      <th>25%</th>\n",
              "      <td>19.000000</td>\n",
              "      <td>2.000000</td>\n",
              "      <td>1.000000</td>\n",
              "      <td>2.000000</td>\n",
              "      <td>3.000000</td>\n",
              "      <td>5.000000</td>\n",
              "      <td>31.000000</td>\n",
              "      <td>10.000000</td>\n",
              "      <td>6.000000</td>\n",
              "      <td>5.000000</td>\n",
              "      <td>4.000000</td>\n",
              "      <td>3.000000</td>\n",
              "      <td>2.000000</td>\n",
              "      <td>15.000000</td>\n",
              "      <td>56.000000</td>\n",
              "      <td>2.000000</td>\n",
              "      <td>2.000000</td>\n",
              "      <td>3.000000</td>\n",
              "      <td>1.000000</td>\n",
              "      <td>1.000000</td>\n",
              "      <td>1.000000</td>\n",
              "      <td>1.000000</td>\n",
              "      <td>1.000000</td>\n",
              "      <td>1.000000</td>\n",
              "      <td>1.000000</td>\n",
              "      <td>1.000000</td>\n",
              "    </tr>\n",
              "    <tr>\n",
              "      <th>50%</th>\n",
              "      <td>20.000000</td>\n",
              "      <td>2.000000</td>\n",
              "      <td>2.000000</td>\n",
              "      <td>3.000000</td>\n",
              "      <td>4.000000</td>\n",
              "      <td>8.000000</td>\n",
              "      <td>40.000000</td>\n",
              "      <td>16.000000</td>\n",
              "      <td>9.000000</td>\n",
              "      <td>9.000000</td>\n",
              "      <td>7.000000</td>\n",
              "      <td>6.000000</td>\n",
              "      <td>4.000000</td>\n",
              "      <td>20.000000</td>\n",
              "      <td>72.000000</td>\n",
              "      <td>5.000000</td>\n",
              "      <td>4.000000</td>\n",
              "      <td>5.000000</td>\n",
              "      <td>3.000000</td>\n",
              "      <td>3.000000</td>\n",
              "      <td>2.000000</td>\n",
              "      <td>2.000000</td>\n",
              "      <td>1.000000</td>\n",
              "      <td>2.000000</td>\n",
              "      <td>1.000000</td>\n",
              "      <td>3.000000</td>\n",
              "    </tr>\n",
              "    <tr>\n",
              "      <th>75%</th>\n",
              "      <td>22.000000</td>\n",
              "      <td>3.000000</td>\n",
              "      <td>3.000000</td>\n",
              "      <td>4.000000</td>\n",
              "      <td>4.000000</td>\n",
              "      <td>11.000000</td>\n",
              "      <td>46.000000</td>\n",
              "      <td>19.000000</td>\n",
              "      <td>12.000000</td>\n",
              "      <td>11.000000</td>\n",
              "      <td>9.000000</td>\n",
              "      <td>8.000000</td>\n",
              "      <td>5.000000</td>\n",
              "      <td>26.000000</td>\n",
              "      <td>88.000000</td>\n",
              "      <td>6.250000</td>\n",
              "      <td>5.000000</td>\n",
              "      <td>6.000000</td>\n",
              "      <td>4.000000</td>\n",
              "      <td>4.000000</td>\n",
              "      <td>3.000000</td>\n",
              "      <td>4.000000</td>\n",
              "      <td>3.000000</td>\n",
              "      <td>4.000000</td>\n",
              "      <td>3.000000</td>\n",
              "      <td>4.000000</td>\n",
              "    </tr>\n",
              "    <tr>\n",
              "      <th>max</th>\n",
              "      <td>31.000000</td>\n",
              "      <td>5.000000</td>\n",
              "      <td>10.000000</td>\n",
              "      <td>5.000000</td>\n",
              "      <td>5.000000</td>\n",
              "      <td>25.000000</td>\n",
              "      <td>48.000000</td>\n",
              "      <td>39.000000</td>\n",
              "      <td>20.000000</td>\n",
              "      <td>25.000000</td>\n",
              "      <td>17.000000</td>\n",
              "      <td>13.000000</td>\n",
              "      <td>10.000000</td>\n",
              "      <td>47.000000</td>\n",
              "      <td>145.000000</td>\n",
              "      <td>7.000000</td>\n",
              "      <td>7.000000</td>\n",
              "      <td>7.000000</td>\n",
              "      <td>7.000000</td>\n",
              "      <td>7.000000</td>\n",
              "      <td>7.000000</td>\n",
              "      <td>7.000000</td>\n",
              "      <td>7.000000</td>\n",
              "      <td>7.000000</td>\n",
              "      <td>7.000000</td>\n",
              "      <td>7.000000</td>\n",
              "    </tr>\n",
              "  </tbody>\n",
              "</table>\n",
              "</div>"
            ],
            "text/plain": [
              "              Age    Age_cate        Stay  ...       Alone      Others    Internet\n",
              "count  268.000000  268.000000  268.000000  ...  268.000000  268.000000  242.000000\n",
              "mean    20.873134    2.559701    2.149254  ...    2.940299    2.141791    3.020661\n",
              "std      2.765279    1.070624    1.326805  ...    2.030705    1.504814    1.719906\n",
              "min     17.000000    1.000000    1.000000  ...    1.000000    1.000000    1.000000\n",
              "25%     19.000000    2.000000    1.000000  ...    1.000000    1.000000    1.000000\n",
              "50%     20.000000    2.000000    2.000000  ...    2.000000    1.000000    3.000000\n",
              "75%     22.000000    3.000000    3.000000  ...    4.000000    3.000000    4.000000\n",
              "max     31.000000    5.000000   10.000000  ...    7.000000    7.000000    7.000000\n",
              "\n",
              "[8 rows x 26 columns]"
            ]
          },
          "metadata": {
            "tags": []
          },
          "execution_count": 36
        }
      ]
    },
    {
      "cell_type": "code",
      "metadata": {
        "colab": {
          "base_uri": "https://localhost:8080/"
        },
        "id": "RF9SOhtPtJwe",
        "outputId": "ba9b9361-ddca-4c7d-ba6b-6fadacb587cf"
      },
      "source": [
        "#Checking if there is any null values are present or not\r\n",
        "df.isna().sum()"
      ],
      "execution_count": 37,
      "outputs": [
        {
          "output_type": "execute_result",
          "data": {
            "text/plain": [
              "inter_dom          18\n",
              "Region             18\n",
              "Gender             18\n",
              "Academic           18\n",
              "Age                18\n",
              "Age_cate           18\n",
              "Stay               18\n",
              "Stay_Cate          18\n",
              "Japanese           18\n",
              "Japanese_cate      18\n",
              "English            18\n",
              "English_cate       18\n",
              "Intimate           26\n",
              "Religion           18\n",
              "Suicide            18\n",
              "Dep                16\n",
              "DepType            15\n",
              "ToDep              18\n",
              "DepSev             13\n",
              "ToSC               18\n",
              "APD                18\n",
              "AHome              18\n",
              "APH                18\n",
              "Afear              18\n",
              "ACS                18\n",
              "AGuilt             18\n",
              "AMiscell           18\n",
              "ToAS               18\n",
              "Partner            18\n",
              "Friends            18\n",
              "Parents            18\n",
              "Relative           18\n",
              "Profess            18\n",
              " Phone             18\n",
              "Doctor             18\n",
              "Reli               18\n",
              "Alone              18\n",
              "Others             18\n",
              "Internet           44\n",
              "Partner_bi          3\n",
              "Friends_bi          3\n",
              "Parents_bi         14\n",
              "Relative_bi        14\n",
              "Professional_bi    14\n",
              "Phone_bi           14\n",
              "Doctor_bi          14\n",
              "religion_bi        14\n",
              "Alone_bi           14\n",
              "Others_bi          14\n",
              "Internet_bi        14\n",
              "dtype: int64"
            ]
          },
          "metadata": {
            "tags": []
          },
          "execution_count": 37
        }
      ]
    },
    {
      "cell_type": "markdown",
      "metadata": {
        "id": "OJQOJN21vFfW"
      },
      "source": [
        "In the above exploaration, we found out that the number of missing values in most cases are more than 5% of the data, that is if we do 5% of 286 = 14.3, which exceeds the limit of our missing values in most cases. Moreover its Multivariate Analysis, so we need to keep in account all the columns which are contributing to the analysis and hence forth we can't drop those columns. However we can drop which are less than that."
      ]
    },
    {
      "cell_type": "code",
      "metadata": {
        "id": "KPqT2BHpvb-0"
      },
      "source": [
        "#Dropping out those columns whose missing values are less than or equal to 14\r\n",
        "df.drop(columns=['Internet_bi', 'Others_bi', 'Alone_bi', 'religion_bi', 'Doctor_bi', 'Phone_bi', 'Professional_bi', 'Relative_bi', 'Parents_bi', 'Friends_bi', 'Partner_bi', 'DepSev'], inplace=True)"
      ],
      "execution_count": 38,
      "outputs": []
    },
    {
      "cell_type": "code",
      "metadata": {
        "colab": {
          "base_uri": "https://localhost:8080/"
        },
        "id": "2DPMCstoBBBV",
        "outputId": "4b00073e-fb5a-427b-c2d4-f057d1c0e6ff"
      },
      "source": [
        "#Here those features with have a greater effect on the data analysis.\r\n",
        "df.isna().sum()"
      ],
      "execution_count": 39,
      "outputs": [
        {
          "output_type": "execute_result",
          "data": {
            "text/plain": [
              "inter_dom        18\n",
              "Region           18\n",
              "Gender           18\n",
              "Academic         18\n",
              "Age              18\n",
              "Age_cate         18\n",
              "Stay             18\n",
              "Stay_Cate        18\n",
              "Japanese         18\n",
              "Japanese_cate    18\n",
              "English          18\n",
              "English_cate     18\n",
              "Intimate         26\n",
              "Religion         18\n",
              "Suicide          18\n",
              "Dep              16\n",
              "DepType          15\n",
              "ToDep            18\n",
              "ToSC             18\n",
              "APD              18\n",
              "AHome            18\n",
              "APH              18\n",
              "Afear            18\n",
              "ACS              18\n",
              "AGuilt           18\n",
              "AMiscell         18\n",
              "ToAS             18\n",
              "Partner          18\n",
              "Friends          18\n",
              "Parents          18\n",
              "Relative         18\n",
              "Profess          18\n",
              " Phone           18\n",
              "Doctor           18\n",
              "Reli             18\n",
              "Alone            18\n",
              "Others           18\n",
              "Internet         44\n",
              "dtype: int64"
            ]
          },
          "metadata": {
            "tags": []
          },
          "execution_count": 39
        }
      ]
    },
    {
      "cell_type": "markdown",
      "metadata": {
        "id": "PsQYFht7HiQa"
      },
      "source": [
        "So with the useful data as of now, we can convert the categorical data into numerical values for analysis."
      ]
    },
    {
      "cell_type": "code",
      "metadata": {
        "id": "oPb4IAa6Fo9_"
      },
      "source": [
        "#Converting inter_dom to Numerical data\r\n",
        "df['inter_dom2']=pd.factorize(df.inter_dom)[0]       #Replacing them\r\n",
        "df.drop(columns=['inter_dom'], inplace=True)         #Dropping the original column  \r\n",
        "#df.rename(columns={\"inter_dom2\":\"inter_dom\"})        #Renaming it for convinience\r\n",
        "\r\n",
        "#To check which values are being assigned we do this\r\n",
        "#df.inter_dom2.value_counts()"
      ],
      "execution_count": 40,
      "outputs": []
    },
    {
      "cell_type": "code",
      "metadata": {
        "id": "5ZybokJJo8ZV"
      },
      "source": [
        "#Converting Region to Numerical data\r\n",
        "df['Region2']=pd.factorize(df.Region)[0]       #Replacing them\r\n",
        "df.drop(columns=['Region'], inplace=True)         #Dropping the original column  \r\n",
        "#df.rename(columns={\"Region2\":\"Region\"})        #Renaming it for convinience\r\n",
        "\r\n",
        "#df.Region2.value_counts()"
      ],
      "execution_count": 41,
      "outputs": []
    },
    {
      "cell_type": "code",
      "metadata": {
        "id": "fOfi0pyEpkpd"
      },
      "source": [
        "#Converting Gender to Numerical data\r\n",
        "df['Gender2']=pd.factorize(df.Gender)[0]       #Replacing them\r\n",
        "df.drop(columns=['Gender'], inplace=True)         #Dropping the original column  \r\n",
        "#df.rename(columns={\"Gender2\":\"Gender\"})        #Renaming it for convinience"
      ],
      "execution_count": 42,
      "outputs": []
    },
    {
      "cell_type": "code",
      "metadata": {
        "id": "pZ0M968asc06"
      },
      "source": [
        "#Converting Academic to Numerical data\r\n",
        "df['Academic2']=pd.factorize(df.Academic)[0]       #Replacing them\r\n",
        "df.drop(columns=['Academic'], inplace=True)         #Dropping the original column  "
      ],
      "execution_count": 43,
      "outputs": []
    },
    {
      "cell_type": "code",
      "metadata": {
        "id": "_aiYMe57uCFH"
      },
      "source": [
        "#Converting Stay_Cate to Numerical data\r\n",
        "df['Stay_Cate2']=pd.factorize(df.Stay_Cate)[0]       #Replacing them\r\n",
        "df.drop(columns=['Stay_Cate'], inplace=True)         #Dropping the original column  "
      ],
      "execution_count": 44,
      "outputs": []
    },
    {
      "cell_type": "code",
      "metadata": {
        "id": "RhcJB7zhuhSy"
      },
      "source": [
        "#Converting Japanese_cate to Numerical data\r\n",
        "df['Japanese_cate']=pd.factorize(df.Japanese_cate)[0]       #Replacing them\r\n",
        "df.drop(columns=['Japanese_cate'], inplace=True)         #Dropping the original column  "
      ],
      "execution_count": 45,
      "outputs": []
    },
    {
      "cell_type": "code",
      "metadata": {
        "id": "vlGGIIiYu2FI"
      },
      "source": [
        "#Converting English_cate to Numerical data\r\n",
        "df['English_cate2']=pd.factorize(df.English_cate)[0]       #Replacing them\r\n",
        "df.drop(columns=['English_cate'], inplace=True)         #Dropping the original column  "
      ],
      "execution_count": 46,
      "outputs": []
    },
    {
      "cell_type": "code",
      "metadata": {
        "id": "0f5KUPQOvSdx"
      },
      "source": [
        "#Converting Intimate to Numerical data\r\n",
        "df['Intimate2']=pd.factorize(df.Intimate)[0]       #Replacing them\r\n",
        "df.drop(columns=['Intimate'], inplace=True)         #Dropping the original column  "
      ],
      "execution_count": 47,
      "outputs": []
    },
    {
      "cell_type": "code",
      "metadata": {
        "id": "CqLj0VuBwBxZ"
      },
      "source": [
        "#Converting Religion to Numerical data\r\n",
        "df['Religion2']=pd.factorize(df.Religion)[0]       #Replacing them\r\n",
        "df.drop(columns=['Religion'], inplace=True)         #Dropping the original column  "
      ],
      "execution_count": 48,
      "outputs": []
    },
    {
      "cell_type": "code",
      "metadata": {
        "id": "y8ESYnN9wY1L"
      },
      "source": [
        "#Converting Suicide to Numerical data\r\n",
        "df['Suicide2']=pd.factorize(df.Suicide)[0]       #Replacing them\r\n",
        "df.drop(columns=['Suicide'], inplace=True)         #Dropping the original column  "
      ],
      "execution_count": 49,
      "outputs": []
    },
    {
      "cell_type": "code",
      "metadata": {
        "id": "qBPhVyvgxPM8"
      },
      "source": [
        "#Converting Dep to Numerical data\r\n",
        "df['Dep2']=pd.factorize(df.Dep)[0]       #Replacing them\r\n",
        "df.drop(columns=['Dep'], inplace=True)         #Dropping the original column  "
      ],
      "execution_count": 50,
      "outputs": []
    },
    {
      "cell_type": "code",
      "metadata": {
        "id": "bQY9-VvL1DbN"
      },
      "source": [
        "#Converting DepType to Numerical data\r\n",
        "df['DepType2']=pd.factorize(df.DepType)[0]       #Replacing them\r\n",
        "df.drop(columns=['DepType'], inplace=True)         #Dropping the original column  "
      ],
      "execution_count": 51,
      "outputs": []
    },
    {
      "cell_type": "code",
      "metadata": {
        "colab": {
          "base_uri": "https://localhost:8080/",
          "height": 435
        },
        "id": "_HeO926oQ9K3",
        "outputId": "136cc36f-4d2a-4637-ce75-29062dc302a0"
      },
      "source": [
        "#While we are converting our data, it is bound to get shuffled and hence we need to have proper display, \r\n",
        "#before we can get hold of the features and the target variable\r\n",
        "pd.options.display.max_columns = None\r\n",
        "display(df)"
      ],
      "execution_count": 52,
      "outputs": [
        {
          "output_type": "display_data",
          "data": {
            "text/html": [
              "<div>\n",
              "<style scoped>\n",
              "    .dataframe tbody tr th:only-of-type {\n",
              "        vertical-align: middle;\n",
              "    }\n",
              "\n",
              "    .dataframe tbody tr th {\n",
              "        vertical-align: top;\n",
              "    }\n",
              "\n",
              "    .dataframe thead th {\n",
              "        text-align: right;\n",
              "    }\n",
              "</style>\n",
              "<table border=\"1\" class=\"dataframe\">\n",
              "  <thead>\n",
              "    <tr style=\"text-align: right;\">\n",
              "      <th></th>\n",
              "      <th>Age</th>\n",
              "      <th>Age_cate</th>\n",
              "      <th>Stay</th>\n",
              "      <th>Japanese</th>\n",
              "      <th>English</th>\n",
              "      <th>ToDep</th>\n",
              "      <th>ToSC</th>\n",
              "      <th>APD</th>\n",
              "      <th>AHome</th>\n",
              "      <th>APH</th>\n",
              "      <th>Afear</th>\n",
              "      <th>ACS</th>\n",
              "      <th>AGuilt</th>\n",
              "      <th>AMiscell</th>\n",
              "      <th>ToAS</th>\n",
              "      <th>Partner</th>\n",
              "      <th>Friends</th>\n",
              "      <th>Parents</th>\n",
              "      <th>Relative</th>\n",
              "      <th>Profess</th>\n",
              "      <th>Phone</th>\n",
              "      <th>Doctor</th>\n",
              "      <th>Reli</th>\n",
              "      <th>Alone</th>\n",
              "      <th>Others</th>\n",
              "      <th>Internet</th>\n",
              "      <th>inter_dom2</th>\n",
              "      <th>Region2</th>\n",
              "      <th>Gender2</th>\n",
              "      <th>Academic2</th>\n",
              "      <th>Stay_Cate2</th>\n",
              "      <th>English_cate2</th>\n",
              "      <th>Intimate2</th>\n",
              "      <th>Religion2</th>\n",
              "      <th>Suicide2</th>\n",
              "      <th>Dep2</th>\n",
              "      <th>DepType2</th>\n",
              "    </tr>\n",
              "  </thead>\n",
              "  <tbody>\n",
              "    <tr>\n",
              "      <th>0</th>\n",
              "      <td>24.0</td>\n",
              "      <td>4.0</td>\n",
              "      <td>5.0</td>\n",
              "      <td>3.0</td>\n",
              "      <td>5.0</td>\n",
              "      <td>0.0</td>\n",
              "      <td>34.0</td>\n",
              "      <td>23.0</td>\n",
              "      <td>9.0</td>\n",
              "      <td>11.0</td>\n",
              "      <td>8.0</td>\n",
              "      <td>11.0</td>\n",
              "      <td>2.0</td>\n",
              "      <td>27.0</td>\n",
              "      <td>91.0</td>\n",
              "      <td>5.0</td>\n",
              "      <td>5.0</td>\n",
              "      <td>6.0</td>\n",
              "      <td>3.0</td>\n",
              "      <td>2.0</td>\n",
              "      <td>1.0</td>\n",
              "      <td>4.0</td>\n",
              "      <td>1.0</td>\n",
              "      <td>3.0</td>\n",
              "      <td>4.0</td>\n",
              "      <td>NaN</td>\n",
              "      <td>0</td>\n",
              "      <td>0</td>\n",
              "      <td>0</td>\n",
              "      <td>0</td>\n",
              "      <td>0</td>\n",
              "      <td>0</td>\n",
              "      <td>-1</td>\n",
              "      <td>0</td>\n",
              "      <td>0</td>\n",
              "      <td>0</td>\n",
              "      <td>0</td>\n",
              "    </tr>\n",
              "    <tr>\n",
              "      <th>1</th>\n",
              "      <td>28.0</td>\n",
              "      <td>5.0</td>\n",
              "      <td>1.0</td>\n",
              "      <td>4.0</td>\n",
              "      <td>4.0</td>\n",
              "      <td>2.0</td>\n",
              "      <td>48.0</td>\n",
              "      <td>8.0</td>\n",
              "      <td>7.0</td>\n",
              "      <td>5.0</td>\n",
              "      <td>4.0</td>\n",
              "      <td>3.0</td>\n",
              "      <td>2.0</td>\n",
              "      <td>10.0</td>\n",
              "      <td>39.0</td>\n",
              "      <td>7.0</td>\n",
              "      <td>7.0</td>\n",
              "      <td>7.0</td>\n",
              "      <td>4.0</td>\n",
              "      <td>4.0</td>\n",
              "      <td>4.0</td>\n",
              "      <td>4.0</td>\n",
              "      <td>1.0</td>\n",
              "      <td>1.0</td>\n",
              "      <td>1.0</td>\n",
              "      <td>NaN</td>\n",
              "      <td>0</td>\n",
              "      <td>0</td>\n",
              "      <td>0</td>\n",
              "      <td>0</td>\n",
              "      <td>1</td>\n",
              "      <td>0</td>\n",
              "      <td>-1</td>\n",
              "      <td>1</td>\n",
              "      <td>0</td>\n",
              "      <td>0</td>\n",
              "      <td>0</td>\n",
              "    </tr>\n",
              "    <tr>\n",
              "      <th>2</th>\n",
              "      <td>25.0</td>\n",
              "      <td>4.0</td>\n",
              "      <td>6.0</td>\n",
              "      <td>4.0</td>\n",
              "      <td>4.0</td>\n",
              "      <td>2.0</td>\n",
              "      <td>41.0</td>\n",
              "      <td>13.0</td>\n",
              "      <td>4.0</td>\n",
              "      <td>7.0</td>\n",
              "      <td>6.0</td>\n",
              "      <td>4.0</td>\n",
              "      <td>3.0</td>\n",
              "      <td>14.0</td>\n",
              "      <td>51.0</td>\n",
              "      <td>3.0</td>\n",
              "      <td>3.0</td>\n",
              "      <td>3.0</td>\n",
              "      <td>1.0</td>\n",
              "      <td>1.0</td>\n",
              "      <td>2.0</td>\n",
              "      <td>1.0</td>\n",
              "      <td>1.0</td>\n",
              "      <td>1.0</td>\n",
              "      <td>1.0</td>\n",
              "      <td>NaN</td>\n",
              "      <td>0</td>\n",
              "      <td>0</td>\n",
              "      <td>0</td>\n",
              "      <td>0</td>\n",
              "      <td>0</td>\n",
              "      <td>0</td>\n",
              "      <td>0</td>\n",
              "      <td>0</td>\n",
              "      <td>0</td>\n",
              "      <td>0</td>\n",
              "      <td>0</td>\n",
              "    </tr>\n",
              "    <tr>\n",
              "      <th>3</th>\n",
              "      <td>29.0</td>\n",
              "      <td>5.0</td>\n",
              "      <td>1.0</td>\n",
              "      <td>2.0</td>\n",
              "      <td>3.0</td>\n",
              "      <td>3.0</td>\n",
              "      <td>37.0</td>\n",
              "      <td>16.0</td>\n",
              "      <td>10.0</td>\n",
              "      <td>10.0</td>\n",
              "      <td>8.0</td>\n",
              "      <td>6.0</td>\n",
              "      <td>4.0</td>\n",
              "      <td>21.0</td>\n",
              "      <td>75.0</td>\n",
              "      <td>5.0</td>\n",
              "      <td>5.0</td>\n",
              "      <td>5.0</td>\n",
              "      <td>5.0</td>\n",
              "      <td>5.0</td>\n",
              "      <td>2.0</td>\n",
              "      <td>2.0</td>\n",
              "      <td>2.0</td>\n",
              "      <td>4.0</td>\n",
              "      <td>4.0</td>\n",
              "      <td>NaN</td>\n",
              "      <td>0</td>\n",
              "      <td>1</td>\n",
              "      <td>1</td>\n",
              "      <td>0</td>\n",
              "      <td>1</td>\n",
              "      <td>1</td>\n",
              "      <td>1</td>\n",
              "      <td>1</td>\n",
              "      <td>0</td>\n",
              "      <td>0</td>\n",
              "      <td>0</td>\n",
              "    </tr>\n",
              "    <tr>\n",
              "      <th>4</th>\n",
              "      <td>28.0</td>\n",
              "      <td>5.0</td>\n",
              "      <td>1.0</td>\n",
              "      <td>1.0</td>\n",
              "      <td>3.0</td>\n",
              "      <td>3.0</td>\n",
              "      <td>37.0</td>\n",
              "      <td>15.0</td>\n",
              "      <td>12.0</td>\n",
              "      <td>5.0</td>\n",
              "      <td>8.0</td>\n",
              "      <td>7.0</td>\n",
              "      <td>4.0</td>\n",
              "      <td>31.0</td>\n",
              "      <td>82.0</td>\n",
              "      <td>5.0</td>\n",
              "      <td>5.0</td>\n",
              "      <td>5.0</td>\n",
              "      <td>2.0</td>\n",
              "      <td>5.0</td>\n",
              "      <td>2.0</td>\n",
              "      <td>5.0</td>\n",
              "      <td>5.0</td>\n",
              "      <td>4.0</td>\n",
              "      <td>4.0</td>\n",
              "      <td>NaN</td>\n",
              "      <td>0</td>\n",
              "      <td>1</td>\n",
              "      <td>1</td>\n",
              "      <td>0</td>\n",
              "      <td>1</td>\n",
              "      <td>1</td>\n",
              "      <td>0</td>\n",
              "      <td>1</td>\n",
              "      <td>0</td>\n",
              "      <td>0</td>\n",
              "      <td>0</td>\n",
              "    </tr>\n",
              "    <tr>\n",
              "      <th>...</th>\n",
              "      <td>...</td>\n",
              "      <td>...</td>\n",
              "      <td>...</td>\n",
              "      <td>...</td>\n",
              "      <td>...</td>\n",
              "      <td>...</td>\n",
              "      <td>...</td>\n",
              "      <td>...</td>\n",
              "      <td>...</td>\n",
              "      <td>...</td>\n",
              "      <td>...</td>\n",
              "      <td>...</td>\n",
              "      <td>...</td>\n",
              "      <td>...</td>\n",
              "      <td>...</td>\n",
              "      <td>...</td>\n",
              "      <td>...</td>\n",
              "      <td>...</td>\n",
              "      <td>...</td>\n",
              "      <td>...</td>\n",
              "      <td>...</td>\n",
              "      <td>...</td>\n",
              "      <td>...</td>\n",
              "      <td>...</td>\n",
              "      <td>...</td>\n",
              "      <td>...</td>\n",
              "      <td>...</td>\n",
              "      <td>...</td>\n",
              "      <td>...</td>\n",
              "      <td>...</td>\n",
              "      <td>...</td>\n",
              "      <td>...</td>\n",
              "      <td>...</td>\n",
              "      <td>...</td>\n",
              "      <td>...</td>\n",
              "      <td>...</td>\n",
              "      <td>...</td>\n",
              "    </tr>\n",
              "    <tr>\n",
              "      <th>281</th>\n",
              "      <td>NaN</td>\n",
              "      <td>NaN</td>\n",
              "      <td>NaN</td>\n",
              "      <td>NaN</td>\n",
              "      <td>NaN</td>\n",
              "      <td>NaN</td>\n",
              "      <td>NaN</td>\n",
              "      <td>NaN</td>\n",
              "      <td>NaN</td>\n",
              "      <td>NaN</td>\n",
              "      <td>NaN</td>\n",
              "      <td>NaN</td>\n",
              "      <td>NaN</td>\n",
              "      <td>NaN</td>\n",
              "      <td>NaN</td>\n",
              "      <td>NaN</td>\n",
              "      <td>NaN</td>\n",
              "      <td>NaN</td>\n",
              "      <td>NaN</td>\n",
              "      <td>NaN</td>\n",
              "      <td>NaN</td>\n",
              "      <td>NaN</td>\n",
              "      <td>NaN</td>\n",
              "      <td>NaN</td>\n",
              "      <td>NaN</td>\n",
              "      <td>NaN</td>\n",
              "      <td>-1</td>\n",
              "      <td>-1</td>\n",
              "      <td>-1</td>\n",
              "      <td>-1</td>\n",
              "      <td>-1</td>\n",
              "      <td>-1</td>\n",
              "      <td>-1</td>\n",
              "      <td>-1</td>\n",
              "      <td>-1</td>\n",
              "      <td>-1</td>\n",
              "      <td>-1</td>\n",
              "    </tr>\n",
              "    <tr>\n",
              "      <th>282</th>\n",
              "      <td>NaN</td>\n",
              "      <td>NaN</td>\n",
              "      <td>NaN</td>\n",
              "      <td>NaN</td>\n",
              "      <td>NaN</td>\n",
              "      <td>NaN</td>\n",
              "      <td>NaN</td>\n",
              "      <td>NaN</td>\n",
              "      <td>NaN</td>\n",
              "      <td>NaN</td>\n",
              "      <td>NaN</td>\n",
              "      <td>NaN</td>\n",
              "      <td>NaN</td>\n",
              "      <td>NaN</td>\n",
              "      <td>NaN</td>\n",
              "      <td>NaN</td>\n",
              "      <td>NaN</td>\n",
              "      <td>NaN</td>\n",
              "      <td>NaN</td>\n",
              "      <td>NaN</td>\n",
              "      <td>NaN</td>\n",
              "      <td>NaN</td>\n",
              "      <td>NaN</td>\n",
              "      <td>NaN</td>\n",
              "      <td>NaN</td>\n",
              "      <td>NaN</td>\n",
              "      <td>-1</td>\n",
              "      <td>-1</td>\n",
              "      <td>-1</td>\n",
              "      <td>-1</td>\n",
              "      <td>-1</td>\n",
              "      <td>-1</td>\n",
              "      <td>-1</td>\n",
              "      <td>-1</td>\n",
              "      <td>-1</td>\n",
              "      <td>-1</td>\n",
              "      <td>-1</td>\n",
              "    </tr>\n",
              "    <tr>\n",
              "      <th>283</th>\n",
              "      <td>NaN</td>\n",
              "      <td>NaN</td>\n",
              "      <td>NaN</td>\n",
              "      <td>NaN</td>\n",
              "      <td>NaN</td>\n",
              "      <td>NaN</td>\n",
              "      <td>NaN</td>\n",
              "      <td>NaN</td>\n",
              "      <td>NaN</td>\n",
              "      <td>NaN</td>\n",
              "      <td>NaN</td>\n",
              "      <td>NaN</td>\n",
              "      <td>NaN</td>\n",
              "      <td>NaN</td>\n",
              "      <td>NaN</td>\n",
              "      <td>NaN</td>\n",
              "      <td>NaN</td>\n",
              "      <td>NaN</td>\n",
              "      <td>NaN</td>\n",
              "      <td>NaN</td>\n",
              "      <td>NaN</td>\n",
              "      <td>NaN</td>\n",
              "      <td>NaN</td>\n",
              "      <td>NaN</td>\n",
              "      <td>NaN</td>\n",
              "      <td>NaN</td>\n",
              "      <td>-1</td>\n",
              "      <td>-1</td>\n",
              "      <td>-1</td>\n",
              "      <td>-1</td>\n",
              "      <td>-1</td>\n",
              "      <td>-1</td>\n",
              "      <td>-1</td>\n",
              "      <td>-1</td>\n",
              "      <td>-1</td>\n",
              "      <td>-1</td>\n",
              "      <td>-1</td>\n",
              "    </tr>\n",
              "    <tr>\n",
              "      <th>284</th>\n",
              "      <td>NaN</td>\n",
              "      <td>NaN</td>\n",
              "      <td>NaN</td>\n",
              "      <td>NaN</td>\n",
              "      <td>NaN</td>\n",
              "      <td>NaN</td>\n",
              "      <td>NaN</td>\n",
              "      <td>NaN</td>\n",
              "      <td>NaN</td>\n",
              "      <td>NaN</td>\n",
              "      <td>NaN</td>\n",
              "      <td>NaN</td>\n",
              "      <td>NaN</td>\n",
              "      <td>NaN</td>\n",
              "      <td>NaN</td>\n",
              "      <td>NaN</td>\n",
              "      <td>NaN</td>\n",
              "      <td>NaN</td>\n",
              "      <td>NaN</td>\n",
              "      <td>NaN</td>\n",
              "      <td>NaN</td>\n",
              "      <td>NaN</td>\n",
              "      <td>NaN</td>\n",
              "      <td>NaN</td>\n",
              "      <td>NaN</td>\n",
              "      <td>NaN</td>\n",
              "      <td>-1</td>\n",
              "      <td>-1</td>\n",
              "      <td>-1</td>\n",
              "      <td>-1</td>\n",
              "      <td>-1</td>\n",
              "      <td>-1</td>\n",
              "      <td>-1</td>\n",
              "      <td>-1</td>\n",
              "      <td>-1</td>\n",
              "      <td>-1</td>\n",
              "      <td>-1</td>\n",
              "    </tr>\n",
              "    <tr>\n",
              "      <th>285</th>\n",
              "      <td>NaN</td>\n",
              "      <td>NaN</td>\n",
              "      <td>NaN</td>\n",
              "      <td>NaN</td>\n",
              "      <td>NaN</td>\n",
              "      <td>NaN</td>\n",
              "      <td>NaN</td>\n",
              "      <td>NaN</td>\n",
              "      <td>NaN</td>\n",
              "      <td>NaN</td>\n",
              "      <td>NaN</td>\n",
              "      <td>NaN</td>\n",
              "      <td>NaN</td>\n",
              "      <td>NaN</td>\n",
              "      <td>NaN</td>\n",
              "      <td>NaN</td>\n",
              "      <td>NaN</td>\n",
              "      <td>NaN</td>\n",
              "      <td>NaN</td>\n",
              "      <td>NaN</td>\n",
              "      <td>NaN</td>\n",
              "      <td>NaN</td>\n",
              "      <td>NaN</td>\n",
              "      <td>NaN</td>\n",
              "      <td>NaN</td>\n",
              "      <td>NaN</td>\n",
              "      <td>-1</td>\n",
              "      <td>-1</td>\n",
              "      <td>-1</td>\n",
              "      <td>-1</td>\n",
              "      <td>-1</td>\n",
              "      <td>-1</td>\n",
              "      <td>-1</td>\n",
              "      <td>-1</td>\n",
              "      <td>-1</td>\n",
              "      <td>-1</td>\n",
              "      <td>-1</td>\n",
              "    </tr>\n",
              "  </tbody>\n",
              "</table>\n",
              "<p>286 rows × 37 columns</p>\n",
              "</div>"
            ],
            "text/plain": [
              "      Age  Age_cate  Stay  Japanese  English  ToDep  ToSC   APD  AHome   APH  \\\n",
              "0    24.0       4.0   5.0       3.0      5.0    0.0  34.0  23.0    9.0  11.0   \n",
              "1    28.0       5.0   1.0       4.0      4.0    2.0  48.0   8.0    7.0   5.0   \n",
              "2    25.0       4.0   6.0       4.0      4.0    2.0  41.0  13.0    4.0   7.0   \n",
              "3    29.0       5.0   1.0       2.0      3.0    3.0  37.0  16.0   10.0  10.0   \n",
              "4    28.0       5.0   1.0       1.0      3.0    3.0  37.0  15.0   12.0   5.0   \n",
              "..    ...       ...   ...       ...      ...    ...   ...   ...    ...   ...   \n",
              "281   NaN       NaN   NaN       NaN      NaN    NaN   NaN   NaN    NaN   NaN   \n",
              "282   NaN       NaN   NaN       NaN      NaN    NaN   NaN   NaN    NaN   NaN   \n",
              "283   NaN       NaN   NaN       NaN      NaN    NaN   NaN   NaN    NaN   NaN   \n",
              "284   NaN       NaN   NaN       NaN      NaN    NaN   NaN   NaN    NaN   NaN   \n",
              "285   NaN       NaN   NaN       NaN      NaN    NaN   NaN   NaN    NaN   NaN   \n",
              "\n",
              "     Afear   ACS  AGuilt  AMiscell  ToAS  Partner  Friends  Parents  Relative  \\\n",
              "0      8.0  11.0     2.0      27.0  91.0      5.0      5.0      6.0       3.0   \n",
              "1      4.0   3.0     2.0      10.0  39.0      7.0      7.0      7.0       4.0   \n",
              "2      6.0   4.0     3.0      14.0  51.0      3.0      3.0      3.0       1.0   \n",
              "3      8.0   6.0     4.0      21.0  75.0      5.0      5.0      5.0       5.0   \n",
              "4      8.0   7.0     4.0      31.0  82.0      5.0      5.0      5.0       2.0   \n",
              "..     ...   ...     ...       ...   ...      ...      ...      ...       ...   \n",
              "281    NaN   NaN     NaN       NaN   NaN      NaN      NaN      NaN       NaN   \n",
              "282    NaN   NaN     NaN       NaN   NaN      NaN      NaN      NaN       NaN   \n",
              "283    NaN   NaN     NaN       NaN   NaN      NaN      NaN      NaN       NaN   \n",
              "284    NaN   NaN     NaN       NaN   NaN      NaN      NaN      NaN       NaN   \n",
              "285    NaN   NaN     NaN       NaN   NaN      NaN      NaN      NaN       NaN   \n",
              "\n",
              "     Profess   Phone  Doctor  Reli  Alone  Others  Internet  inter_dom2  \\\n",
              "0        2.0     1.0     4.0   1.0    3.0     4.0       NaN           0   \n",
              "1        4.0     4.0     4.0   1.0    1.0     1.0       NaN           0   \n",
              "2        1.0     2.0     1.0   1.0    1.0     1.0       NaN           0   \n",
              "3        5.0     2.0     2.0   2.0    4.0     4.0       NaN           0   \n",
              "4        5.0     2.0     5.0   5.0    4.0     4.0       NaN           0   \n",
              "..       ...     ...     ...   ...    ...     ...       ...         ...   \n",
              "281      NaN     NaN     NaN   NaN    NaN     NaN       NaN          -1   \n",
              "282      NaN     NaN     NaN   NaN    NaN     NaN       NaN          -1   \n",
              "283      NaN     NaN     NaN   NaN    NaN     NaN       NaN          -1   \n",
              "284      NaN     NaN     NaN   NaN    NaN     NaN       NaN          -1   \n",
              "285      NaN     NaN     NaN   NaN    NaN     NaN       NaN          -1   \n",
              "\n",
              "     Region2  Gender2  Academic2  Stay_Cate2  English_cate2  Intimate2  \\\n",
              "0          0        0          0           0              0         -1   \n",
              "1          0        0          0           1              0         -1   \n",
              "2          0        0          0           0              0          0   \n",
              "3          1        1          0           1              1          1   \n",
              "4          1        1          0           1              1          0   \n",
              "..       ...      ...        ...         ...            ...        ...   \n",
              "281       -1       -1         -1          -1             -1         -1   \n",
              "282       -1       -1         -1          -1             -1         -1   \n",
              "283       -1       -1         -1          -1             -1         -1   \n",
              "284       -1       -1         -1          -1             -1         -1   \n",
              "285       -1       -1         -1          -1             -1         -1   \n",
              "\n",
              "     Religion2  Suicide2  Dep2  DepType2  \n",
              "0            0         0     0         0  \n",
              "1            1         0     0         0  \n",
              "2            0         0     0         0  \n",
              "3            1         0     0         0  \n",
              "4            1         0     0         0  \n",
              "..         ...       ...   ...       ...  \n",
              "281         -1        -1    -1        -1  \n",
              "282         -1        -1    -1        -1  \n",
              "283         -1        -1    -1        -1  \n",
              "284         -1        -1    -1        -1  \n",
              "285         -1        -1    -1        -1  \n",
              "\n",
              "[286 rows x 37 columns]"
            ]
          },
          "metadata": {
            "tags": []
          }
        }
      ]
    },
    {
      "cell_type": "code",
      "metadata": {
        "id": "yfSJFgbMAumH"
      },
      "source": [
        "#Changing NaNs to 0\r\n",
        "df=df.fillna(0)"
      ],
      "execution_count": 53,
      "outputs": []
    },
    {
      "cell_type": "code",
      "metadata": {
        "colab": {
          "base_uri": "https://localhost:8080/"
        },
        "id": "iLv1dqe8Dveq",
        "outputId": "e8a83f79-48ff-4ee9-91ad-4ac94853ffd4"
      },
      "source": [
        "#Splitting the data into labels and features\r\n",
        "X1=df.iloc[:,0:34]\r\n",
        "X2=df.iloc[:,35:37] \r\n",
        "X=X1.join(X2) #Features\r\n",
        "#X = X.values.reshape(1,-1)\r\n",
        "Y=df.iloc[:,34:35] #Label\r\n",
        "#Y = Y.values.reshape(1,-1)\r\n",
        "#print(Y)\r\n",
        "\r\n",
        "#print(X1)\r\n",
        "#print(X2)"
      ],
      "execution_count": 54,
      "outputs": [
        {
          "output_type": "stream",
          "text": [
            "      Age  Age_cate  Stay  Japanese  English  ToDep  ToSC   APD  AHome   APH  \\\n",
            "0    24.0       4.0   5.0       3.0      5.0    0.0  34.0  23.0    9.0  11.0   \n",
            "1    28.0       5.0   1.0       4.0      4.0    2.0  48.0   8.0    7.0   5.0   \n",
            "2    25.0       4.0   6.0       4.0      4.0    2.0  41.0  13.0    4.0   7.0   \n",
            "3    29.0       5.0   1.0       2.0      3.0    3.0  37.0  16.0   10.0  10.0   \n",
            "4    28.0       5.0   1.0       1.0      3.0    3.0  37.0  15.0   12.0   5.0   \n",
            "..    ...       ...   ...       ...      ...    ...   ...   ...    ...   ...   \n",
            "281   0.0       0.0   0.0       0.0      0.0    0.0   0.0   0.0    0.0   0.0   \n",
            "282   0.0       0.0   0.0       0.0      0.0    0.0   0.0   0.0    0.0   0.0   \n",
            "283   0.0       0.0   0.0       0.0      0.0    0.0   0.0   0.0    0.0   0.0   \n",
            "284   0.0       0.0   0.0       0.0      0.0    0.0   0.0   0.0    0.0   0.0   \n",
            "285   0.0       0.0   0.0       0.0      0.0    0.0   0.0   0.0    0.0   0.0   \n",
            "\n",
            "     Afear   ACS  AGuilt  AMiscell  ToAS  Partner  Friends  Parents  Relative  \\\n",
            "0      8.0  11.0     2.0      27.0  91.0      5.0      5.0      6.0       3.0   \n",
            "1      4.0   3.0     2.0      10.0  39.0      7.0      7.0      7.0       4.0   \n",
            "2      6.0   4.0     3.0      14.0  51.0      3.0      3.0      3.0       1.0   \n",
            "3      8.0   6.0     4.0      21.0  75.0      5.0      5.0      5.0       5.0   \n",
            "4      8.0   7.0     4.0      31.0  82.0      5.0      5.0      5.0       2.0   \n",
            "..     ...   ...     ...       ...   ...      ...      ...      ...       ...   \n",
            "281    0.0   0.0     0.0       0.0   0.0      0.0      0.0      0.0       0.0   \n",
            "282    0.0   0.0     0.0       0.0   0.0      0.0      0.0      0.0       0.0   \n",
            "283    0.0   0.0     0.0       0.0   0.0      0.0      0.0      0.0       0.0   \n",
            "284    0.0   0.0     0.0       0.0   0.0      0.0      0.0      0.0       0.0   \n",
            "285    0.0   0.0     0.0       0.0   0.0      0.0      0.0      0.0       0.0   \n",
            "\n",
            "     Profess   Phone  Doctor  Reli  Alone  Others  Internet  inter_dom2  \\\n",
            "0        2.0     1.0     4.0   1.0    3.0     4.0       0.0           0   \n",
            "1        4.0     4.0     4.0   1.0    1.0     1.0       0.0           0   \n",
            "2        1.0     2.0     1.0   1.0    1.0     1.0       0.0           0   \n",
            "3        5.0     2.0     2.0   2.0    4.0     4.0       0.0           0   \n",
            "4        5.0     2.0     5.0   5.0    4.0     4.0       0.0           0   \n",
            "..       ...     ...     ...   ...    ...     ...       ...         ...   \n",
            "281      0.0     0.0     0.0   0.0    0.0     0.0       0.0          -1   \n",
            "282      0.0     0.0     0.0   0.0    0.0     0.0       0.0          -1   \n",
            "283      0.0     0.0     0.0   0.0    0.0     0.0       0.0          -1   \n",
            "284      0.0     0.0     0.0   0.0    0.0     0.0       0.0          -1   \n",
            "285      0.0     0.0     0.0   0.0    0.0     0.0       0.0          -1   \n",
            "\n",
            "     Region2  Gender2  Academic2  Stay_Cate2  English_cate2  Intimate2  \\\n",
            "0          0        0          0           0              0         -1   \n",
            "1          0        0          0           1              0         -1   \n",
            "2          0        0          0           0              0          0   \n",
            "3          1        1          0           1              1          1   \n",
            "4          1        1          0           1              1          0   \n",
            "..       ...      ...        ...         ...            ...        ...   \n",
            "281       -1       -1         -1          -1             -1         -1   \n",
            "282       -1       -1         -1          -1             -1         -1   \n",
            "283       -1       -1         -1          -1             -1         -1   \n",
            "284       -1       -1         -1          -1             -1         -1   \n",
            "285       -1       -1         -1          -1             -1         -1   \n",
            "\n",
            "     Religion2  \n",
            "0            0  \n",
            "1            1  \n",
            "2            0  \n",
            "3            1  \n",
            "4            1  \n",
            "..         ...  \n",
            "281         -1  \n",
            "282         -1  \n",
            "283         -1  \n",
            "284         -1  \n",
            "285         -1  \n",
            "\n",
            "[286 rows x 34 columns]\n",
            "     Dep2  DepType2\n",
            "0       0         0\n",
            "1       0         0\n",
            "2       0         0\n",
            "3       0         0\n",
            "4       0         0\n",
            "..    ...       ...\n",
            "281    -1        -1\n",
            "282    -1        -1\n",
            "283    -1        -1\n",
            "284    -1        -1\n",
            "285    -1        -1\n",
            "\n",
            "[286 rows x 2 columns]\n"
          ],
          "name": "stdout"
        }
      ]
    },
    {
      "cell_type": "code",
      "metadata": {
        "id": "HDbzBaqxMl9F"
      },
      "source": [
        "#Splitting the training and testing data\r\n",
        "X_train, X_test, Y_train, Y_test = train_test_split(X, Y, test_size= 0.2, random_state=0)"
      ],
      "execution_count": 89,
      "outputs": []
    },
    {
      "cell_type": "code",
      "metadata": {
        "colab": {
          "base_uri": "https://localhost:8080/",
          "height": 333
        },
        "id": "gJEhVvdeyA0Q",
        "outputId": "b4895680-b011-404a-e049-ef614f878b20"
      },
      "source": [
        "#Visualizing the data\r\n",
        "dataplot = sns.heatmap(df.corr(), cmap=\"YlGnBu\", annot=True)\r\n",
        "plt.show"
      ],
      "execution_count": 90,
      "outputs": [
        {
          "output_type": "execute_result",
          "data": {
            "text/plain": [
              "<function matplotlib.pyplot.show>"
            ]
          },
          "metadata": {
            "tags": []
          },
          "execution_count": 90
        },
        {
          "output_type": "display_data",
          "data": {
            "image/png": "[encoded data removed]",
            "text/plain": [
              "<Figure size 432x288 with 2 Axes>"
            ]
          },
          "metadata": {
            "tags": [],
            "needs_background": "light"
          }
        }
      ]
    },
    {
      "cell_type": "code",
      "metadata": {
        "colab": {
          "base_uri": "https://localhost:8080/",
          "height": 351
        },
        "id": "-p54NmhJRz5X",
        "outputId": "e93802d4-e49d-41c8-c9dd-7ef189d4ed3d"
      },
      "source": [
        "#Feature Selection using Extra Tree Classifier\r\n",
        "\r\n",
        "# Building the model \r\n",
        "extra_tree_forest = ExtraTreesClassifier(n_estimators = 5, criterion ='entropy', max_features = 2) \r\n",
        "  \r\n",
        "# Training the model \r\n",
        "extra_tree_forest.fit(X, Y) \r\n",
        "  \r\n",
        "# Computing the importance of each feature \r\n",
        "feature_importance = extra_tree_forest.feature_importances_ \r\n",
        "  \r\n",
        "# Normalizing the individual importances \r\n",
        "feature_importance_normalized = np.std([tree.feature_importances_ for tree in extra_tree_forest.estimators_], axis = 0) \r\n",
        "\r\n",
        "# Plotting a Bar Graph to compare the models \r\n",
        "plt.bar(X.columns, feature_importance_normalized) \r\n",
        "plt.xlabel('Feature Labels') \r\n",
        "plt.ylabel('Feature Importances') \r\n",
        "plt.title('Comparison of different Feature Importances') \r\n",
        "plt.show() "
      ],
      "execution_count": 91,
      "outputs": [
        {
          "output_type": "stream",
          "text": [
            "/usr/local/lib/python3.6/dist-packages/ipykernel_launcher.py:7: DataConversionWarning: A column-vector y was passed when a 1d array was expected. Please change the shape of y to (n_samples,), for example using ravel().\n",
            "  import sys\n"
          ],
          "name": "stderr"
        },
        {
          "output_type": "display_data",
          "data": {
            "image/png": "[encoded data removed]",
            "text/plain": [
              "<Figure size 432x288 with 1 Axes>"
            ]
          },
          "metadata": {
            "tags": [],
            "needs_background": "light"
          }
        }
      ]
    },
    {
      "cell_type": "code",
      "metadata": {
        "colab": {
          "base_uri": "https://localhost:8080/"
        },
        "id": "Ivghl2wsMeto",
        "outputId": "a2a413f9-75da-4a87-a6f6-0f6a50fe37bf"
      },
      "source": [
        "#Feature Selection Using Chi Square Test\r\n",
        "selector = SelectKBest(k=25)\r\n",
        "X_train_selected = selector.fit_transform(X_train,Y_train)"
      ],
      "execution_count": 92,
      "outputs": [
        {
          "output_type": "stream",
          "text": [
            "/usr/local/lib/python3.6/dist-packages/sklearn/utils/validation.py:760: DataConversionWarning: A column-vector y was passed when a 1d array was expected. Please change the shape of y to (n_samples, ), for example using ravel().\n",
            "  y = column_or_1d(y, warn=True)\n"
          ],
          "name": "stderr"
        }
      ]
    },
    {
      "cell_type": "code",
      "metadata": {
        "colab": {
          "base_uri": "https://localhost:8080/"
        },
        "id": "cKFuddTQvgit",
        "outputId": "692d03f7-de9c-4c82-af90-62cbfcc25f8b"
      },
      "source": [
        "#Using Logistic Regression\r\n",
        "lr = LogisticRegression()\r\n",
        "lr.fit(X_train_selected,Y_train)\r\n",
        "# select the same features on the test set, predict, and get the test accuracy:\r\n",
        "X_test_selected = selector.transform(X_test)\r\n",
        "y_pred = lr.predict(X_test_selected)\r\n",
        "accuracy_score(Y_test, y_pred)"
      ],
      "execution_count": 93,
      "outputs": [
        {
          "output_type": "stream",
          "text": [
            "/usr/local/lib/python3.6/dist-packages/sklearn/utils/validation.py:760: DataConversionWarning: A column-vector y was passed when a 1d array was expected. Please change the shape of y to (n_samples, ), for example using ravel().\n",
            "  y = column_or_1d(y, warn=True)\n",
            "/usr/local/lib/python3.6/dist-packages/sklearn/linear_model/_logistic.py:940: ConvergenceWarning: lbfgs failed to converge (status=1):\n",
            "STOP: TOTAL NO. of ITERATIONS REACHED LIMIT.\n",
            "\n",
            "Increase the number of iterations (max_iter) or scale the data as shown in:\n",
            "    https://scikit-learn.org/stable/modules/preprocessing.html\n",
            "Please also refer to the documentation for alternative solver options:\n",
            "    https://scikit-learn.org/stable/modules/linear_model.html#logistic-regression\n",
            "  extra_warning_msg=_LOGISTIC_SOLVER_CONVERGENCE_MSG)\n"
          ],
          "name": "stderr"
        },
        {
          "output_type": "execute_result",
          "data": {
            "text/plain": [
              "0.896551724137931"
            ]
          },
          "metadata": {
            "tags": []
          },
          "execution_count": 93
        }
      ]
    },
    {
      "cell_type": "code",
      "metadata": {
        "colab": {
          "base_uri": "https://localhost:8080/"
        },
        "id": "tRgrBlfURLjU",
        "outputId": "55a7f361-bcd2-44cd-c3b6-4a36faceba16"
      },
      "source": [
        "#Using KNeighbors Classifier\r\n",
        "classifier= KNeighborsClassifier(n_neighbors=5, metric='minkowski', p=2 )  \r\n",
        "classifier.fit(X_train_selected, Y_train)  \r\n",
        "X_test_selected = selector.transform(X_test)\r\n",
        "y_pred = classifier.predict(X_test_selected)\r\n",
        "accuracy_score(Y_test, y_pred)\r\n",
        "\r\n",
        "#Creating the confusion matrix\r\n",
        "confusion_matrix=confusion_matrix(Y_test,y_pred)\r\n",
        "print(confusion_matrix)\r\n",
        "from sklearn.metrics import classification_report\r\n",
        "print(classification_report(Y_test,y_pred))"
      ],
      "execution_count": 94,
      "outputs": [
        {
          "output_type": "stream",
          "text": [
            "[[ 6  0  0]\n",
            " [ 0 37  5]\n",
            " [ 0  5  5]]\n",
            "              precision    recall  f1-score   support\n",
            "\n",
            "          -1       1.00      1.00      1.00         6\n",
            "           0       0.88      0.88      0.88        42\n",
            "           1       0.50      0.50      0.50        10\n",
            "\n",
            "    accuracy                           0.83        58\n",
            "   macro avg       0.79      0.79      0.79        58\n",
            "weighted avg       0.83      0.83      0.83        58\n",
            "\n"
          ],
          "name": "stdout"
        },
        {
          "output_type": "stream",
          "text": [
            "/usr/local/lib/python3.6/dist-packages/ipykernel_launcher.py:3: DataConversionWarning: A column-vector y was passed when a 1d array was expected. Please change the shape of y to (n_samples, ), for example using ravel().\n",
            "  This is separate from the ipykernel package so we can avoid doing imports until\n"
          ],
          "name": "stderr"
        }
      ]
    },
    {
      "cell_type": "code",
      "metadata": {
        "colab": {
          "base_uri": "https://localhost:8080/"
        },
        "id": "J0g_LSPsYLfG",
        "outputId": "6893822d-6813-4236-b2de-f8ef8460728e"
      },
      "source": [
        "#Using Support Vector Machine\r\n",
        "classifier = SVC(kernel='linear', random_state=0)  \r\n",
        "classifier.fit(X_train_selected, Y_train)  \r\n",
        "X_test_selected = selector.transform(X_test)\r\n",
        "y_pred = classifier.predict(X_test_selected)\r\n",
        "accuracy_score(Y_test, y_pred)\r\n",
        "\r\n",
        "#Creating the confusion matrix\r\n",
        "confusion_matrix=confusion_matrix(Y_test,y_pred)\r\n",
        "print(confusion_matrix)\r\n",
        "from sklearn.metrics import classification_report\r\n",
        "print(classification_report(Y_test,y_pred))"
      ],
      "execution_count": 98,
      "outputs": [
        {
          "output_type": "stream",
          "text": [
            "[[ 6  0  0]\n",
            " [ 0 40  2]\n",
            " [ 0  4  6]]\n",
            "              precision    recall  f1-score   support\n",
            "\n",
            "          -1       1.00      1.00      1.00         6\n",
            "           0       0.91      0.95      0.93        42\n",
            "           1       0.75      0.60      0.67        10\n",
            "\n",
            "    accuracy                           0.90        58\n",
            "   macro avg       0.89      0.85      0.87        58\n",
            "weighted avg       0.89      0.90      0.89        58\n",
            "\n"
          ],
          "name": "stdout"
        },
        {
          "output_type": "stream",
          "text": [
            "/usr/local/lib/python3.6/dist-packages/sklearn/utils/validation.py:760: DataConversionWarning: A column-vector y was passed when a 1d array was expected. Please change the shape of y to (n_samples, ), for example using ravel().\n",
            "  y = column_or_1d(y, warn=True)\n"
          ],
          "name": "stderr"
        }
      ]
    },
    {
      "cell_type": "code",
      "metadata": {
        "colab": {
          "base_uri": "https://localhost:8080/"
        },
        "id": "xlEZZagjZrXE",
        "outputId": "ea27c953-09ca-48c1-bab9-d2131f21d47c"
      },
      "source": [
        "#Using Naive Bayes Classifier\r\n",
        "classifier = GaussianNB()  \r\n",
        "classifier.fit(X_train_selected, Y_train)  \r\n",
        "X_test_selected = selector.transform(X_test)\r\n",
        "y_pred = classifier.predict(X_test_selected)\r\n",
        "accuracy_score(Y_test, y_pred)\r\n",
        "\r\n",
        "#Creating the confusion matrix\r\n",
        "confusion_matrix=confusion_matrix(Y_test,y_pred)\r\n",
        "print(confusion_matrix)\r\n",
        "from sklearn.metrics import classification_report\r\n",
        "print(classification_report(Y_test,y_pred))"
      ],
      "execution_count": 101,
      "outputs": [
        {
          "output_type": "stream",
          "text": [
            "[[ 6  0  0]\n",
            " [ 0 39  3]\n",
            " [ 0  4  6]]\n",
            "              precision    recall  f1-score   support\n",
            "\n",
            "          -1       1.00      1.00      1.00         6\n",
            "           0       0.91      0.93      0.92        42\n",
            "           1       0.67      0.60      0.63        10\n",
            "\n",
            "    accuracy                           0.88        58\n",
            "   macro avg       0.86      0.84      0.85        58\n",
            "weighted avg       0.88      0.88      0.88        58\n",
            "\n"
          ],
          "name": "stdout"
        },
        {
          "output_type": "stream",
          "text": [
            "/usr/local/lib/python3.6/dist-packages/sklearn/naive_bayes.py:206: DataConversionWarning: A column-vector y was passed when a 1d array was expected. Please change the shape of y to (n_samples, ), for example using ravel().\n",
            "  y = column_or_1d(y, warn=True)\n"
          ],
          "name": "stderr"
        }
      ]
    }
  ]
}